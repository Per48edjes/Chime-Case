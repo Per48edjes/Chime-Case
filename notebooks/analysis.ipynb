{
 "cells": [
  {
   "cell_type": "markdown",
   "id": "fcf011ab",
   "metadata": {},
   "source": [
    "# Chime Case Study\n",
    "Ravi Dayabhai"
   ]
  },
  {
   "cell_type": "code",
   "execution_count": 1,
   "id": "df58862a",
   "metadata": {},
   "outputs": [],
   "source": [
    "%load_ext autoreload\n",
    "%autoreload 2\n",
    "%config InlineBackend.figure_format = 'retina'"
   ]
  },
  {
   "cell_type": "code",
   "execution_count": 2,
   "id": "04a13eb1",
   "metadata": {},
   "outputs": [],
   "source": [
    "# Import dependencies\n",
    "import pandas as pd\n",
    "import glob\n",
    "import os\n",
    "import pandas\n",
    "\n",
    "import matplotlib.pyplot as plt"
   ]
  },
  {
   "cell_type": "code",
   "execution_count": 3,
   "id": "8871d7bc",
   "metadata": {},
   "outputs": [],
   "source": [
    "# Global variables\n",
    "\n",
    "# Revenue\n",
    "INTERCHANGE_RATE = 1.5 / 100 # per purchase dollar\n",
    "\n",
    "# Costs\n",
    "COGS = 1.05 / 100 # per purchase dollar\n",
    "SPEND_TRACKER_PMPM = 5 # cost per member-month"
   ]
  },
  {
   "cell_type": "markdown",
   "id": "ed48f77b",
   "metadata": {},
   "source": [
    "## Data Load / Processing\n",
    "\n",
    "These data is super clean and relatively small. "
   ]
  },
  {
   "cell_type": "code",
   "execution_count": 4,
   "id": "52f106a5",
   "metadata": {},
   "outputs": [],
   "source": [
    "# Load data\n",
    "DATA_PATH = \"../data/\"\n",
    "data_files = glob.glob(os.path.join(DATA_PATH, \"*.csv\"))\n",
    "data_dict = {}\n",
    "for file in data_files:\n",
    "    file_name = os.path.splitext(os.path.basename(file))[0]\n",
    "    df_i = pd.read_csv(file)\n",
    "    data_dict[file_name] = df_i\n",
    "\n",
    "# Assign to user-friendly variables\n",
    "df_perf = data_dict['performance'].copy()\n",
    "df_acq_segment = data_dict['acquisition_segment_counts'].copy()\n",
    "df_acq_agg = data_dict['acquisition_agg'].copy()\n",
    "\n",
    "# Set indices\n",
    "df_acq_agg.set_index('Variant', inplace=True)\n",
    "df_acq_segment.set_index('Variant', inplace=True)\n",
    "df_perf.set_index(['Months Since Conversion', 'Test Group', 'Segment'], \n",
    "                  inplace=True)"
   ]
  },
  {
   "cell_type": "markdown",
   "id": "675caf98",
   "metadata": {},
   "source": [
    "## EDA\n",
    "\n",
    "The exploratory data analysis will largely be driven by the questions extracted from the case study prompt.\n",
    "\n",
    "**Notes**:\n",
    "\n",
    "- For the The _Treatment_, in this context, comprises a customer journey featuring a spend tracker, wherease the _Control_ arm is not availed of the existence of a spend tracker.\n",
    "- Average monthly spend for Segment B is _higher_ than Segment A's.\n",
    "- Members in Segment B are _more likely_ to have additional bank accounts in addition to Chime.\n",
    "- The Spend Tracker is free _to all members_ and will cost Chime \\$5 per member per month (PMPM), i.e., it is not revenue generating itself."
   ]
  },
  {
   "cell_type": "markdown",
   "id": "0552e7fb",
   "metadata": {},
   "source": [
    "### Acquisition\n",
    "\n",
    "- What does the funnel look like for Control vs. Treatment?\n",
    "- Assuming cogent data collection, did the Treatment drive lift in CTR? Conversions?\n",
    "- How does overall CAC compare for Control vs. Treatment?\n",
    " - Overall CAC for the Treatment should include the cost to provide the free spend tracker to all members _that use_ the feature."
   ]
  },
  {
   "cell_type": "code",
   "execution_count": 5,
   "id": "b6c961c9",
   "metadata": {},
   "outputs": [
    {
     "data": {
      "text/html": [
       "<div>\n",
       "<style scoped>\n",
       "    .dataframe tbody tr th:only-of-type {\n",
       "        vertical-align: middle;\n",
       "    }\n",
       "\n",
       "    .dataframe tbody tr th {\n",
       "        vertical-align: top;\n",
       "    }\n",
       "\n",
       "    .dataframe thead th {\n",
       "        text-align: right;\n",
       "    }\n",
       "</style>\n",
       "<table border=\"1\" class=\"dataframe\">\n",
       "  <thead>\n",
       "    <tr style=\"text-align: right;\">\n",
       "      <th></th>\n",
       "      <th>Spend</th>\n",
       "      <th>Population</th>\n",
       "      <th>Unique Clicks</th>\n",
       "      <th>Conversions</th>\n",
       "      <th>CTR</th>\n",
       "      <th>CR</th>\n",
       "      <th>CPUC</th>\n",
       "      <th>CAC</th>\n",
       "    </tr>\n",
       "    <tr>\n",
       "      <th>Variant</th>\n",
       "      <th></th>\n",
       "      <th></th>\n",
       "      <th></th>\n",
       "      <th></th>\n",
       "      <th></th>\n",
       "      <th></th>\n",
       "      <th></th>\n",
       "      <th></th>\n",
       "    </tr>\n",
       "  </thead>\n",
       "  <tbody>\n",
       "    <tr>\n",
       "      <th>Control</th>\n",
       "      <td>1010476</td>\n",
       "      <td>20014153</td>\n",
       "      <td>200140</td>\n",
       "      <td>19815</td>\n",
       "      <td>0.0100</td>\n",
       "      <td>0.099006</td>\n",
       "      <td>5.048846</td>\n",
       "      <td>50.995508</td>\n",
       "    </tr>\n",
       "    <tr>\n",
       "      <th>Test</th>\n",
       "      <td>1020581</td>\n",
       "      <td>20214295</td>\n",
       "      <td>208206</td>\n",
       "      <td>23007</td>\n",
       "      <td>0.0103</td>\n",
       "      <td>0.110501</td>\n",
       "      <td>4.901785</td>\n",
       "      <td>44.359586</td>\n",
       "    </tr>\n",
       "  </tbody>\n",
       "</table>\n",
       "</div>"
      ],
      "text/plain": [
       "           Spend  Population  Unique Clicks  Conversions     CTR        CR  \\\n",
       "Variant                                                                      \n",
       "Control  1010476    20014153         200140        19815  0.0100  0.099006   \n",
       "Test     1020581    20214295         208206        23007  0.0103  0.110501   \n",
       "\n",
       "             CPUC        CAC  \n",
       "Variant                       \n",
       "Control  5.048846  50.995508  \n",
       "Test     4.901785  44.359586  "
      ]
     },
     "execution_count": 5,
     "metadata": {},
     "output_type": "execute_result"
    }
   ],
   "source": [
    "# Funnel metrics by variant\n",
    "df_acq_agg['CTR'] = df_acq_agg['Unique Clicks'] / df_acq_agg['Population']\n",
    "df_acq_agg['CR'] = df_acq_agg['Conversions'] /  df_acq_agg['Unique Clicks']\n",
    "\n",
    "# Cost-per-Unique-Click by variant\n",
    "df_acq_agg['CPUC'] = df_acq_agg['Spend'] / df_acq_agg['Unique Clicks']\n",
    "\n",
    "# Cost-per-Conversion by variant\n",
    "df_acq_agg['CAC'] = df_acq_agg['Spend'] / df_acq_agg['Conversions']\n",
    "\n",
    "df_acq_agg"
   ]
  },
  {
   "cell_type": "markdown",
   "id": "dd7cea04",
   "metadata": {},
   "source": [
    "#### Response Segmentation\n",
    "\n",
    "First, let's take a look at the distribution of Segment A vs. Segment B respondents in each variant assignment."
   ]
  },
  {
   "cell_type": "markdown",
   "id": "da4b4586",
   "metadata": {},
   "source": [
    "### Profitability\n",
    "\n",
    "**Hypothesis**: The spend tracker helps overall profitability by driving more cumulative spending per member over their lifetime. The lift in profitability can be decomposed into:\n",
    "- Incremental profitability due to _higher retention per member_.\n",
    "- Incremental profitability due to _higher avergage monthly spend per member_."
   ]
  },
  {
   "cell_type": "markdown",
   "id": "5547a0dd",
   "metadata": {},
   "source": [
    "### Member Value\n",
    "\n",
    "From the case study prompt:\n",
    "\n",
    "> To evaluate value to members, we look at what percentage of our members test the feature and continue to use it through time.\n"
   ]
  }
 ],
 "metadata": {
  "kernelspec": {
   "display_name": "Python 3",
   "language": "python",
   "name": "python3"
  },
  "language_info": {
   "codemirror_mode": {
    "name": "ipython",
    "version": 3
   },
   "file_extension": ".py",
   "mimetype": "text/x-python",
   "name": "python",
   "nbconvert_exporter": "python",
   "pygments_lexer": "ipython3",
   "version": "3.9.4"
  }
 },
 "nbformat": 4,
 "nbformat_minor": 5
}
