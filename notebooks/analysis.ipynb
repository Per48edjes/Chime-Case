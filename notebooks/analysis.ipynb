{
 "cells": [
  {
   "cell_type": "markdown",
   "id": "bd750ba6",
   "metadata": {},
   "source": [
    "# Chime Case Study\n",
    "Ravi Dayabhai"
   ]
  },
  {
   "cell_type": "code",
   "execution_count": 1,
   "id": "c5ad35d1",
   "metadata": {},
   "outputs": [],
   "source": [
    "%load_ext autoreload\n",
    "%autoreload 2\n",
    "%config InlineBackend.figure_format = 'retina'"
   ]
  },
  {
   "cell_type": "code",
   "execution_count": 12,
   "id": "f881c3e6",
   "metadata": {},
   "outputs": [],
   "source": [
    "# Import dependencies\n",
    "import glob\n",
    "import os\n",
    "\n",
    "import pandas as pd\n",
    "import numpy as np\n",
    "import matplotlib.pyplot as plt\n",
    "import matplotlib.ticker as mtick\n",
    "from scipy.stats import sem, beta, binom\n",
    "from statsmodels.stats.proportion import proportions_ztest"
   ]
  },
  {
   "cell_type": "code",
   "execution_count": 3,
   "id": "a7c3c6b2",
   "metadata": {},
   "outputs": [],
   "source": [
    "# Global variables\n",
    "\n",
    "# Revenue\n",
    "INTERCHANGE_RATE = 1.5 / 100 # per purchase dollar\n",
    "\n",
    "# Costs\n",
    "COGS = 1.05 / 100 # per purchase dollar\n",
    "SPEND_TRACKER_PMPM = 5 # cost per member-month"
   ]
  },
  {
   "cell_type": "markdown",
   "id": "aaa20bc1",
   "metadata": {},
   "source": [
    "## Data Load / Processing\n",
    "\n",
    "Luckily, these data are super clean and relatively small. Conversion to CSVs ensured data type integrity and these toy data contain no nulls."
   ]
  },
  {
   "cell_type": "code",
   "execution_count": 4,
   "id": "a6f392ad",
   "metadata": {},
   "outputs": [],
   "source": [
    "# Load data\n",
    "DATA_PATH = \"../data/\"\n",
    "data_files = glob.glob(os.path.join(DATA_PATH, \"*.csv\"))\n",
    "data_dict = {}\n",
    "for file in data_files:\n",
    "    file_name = os.path.splitext(os.path.basename(file))[0]\n",
    "    df_i = pd.read_csv(file)\n",
    "    data_dict[file_name] = df_i\n",
    "\n",
    "# Assign to user-friendly variables\n",
    "df_perf = data_dict['performance'].copy()\n",
    "df_acq_segment = data_dict['acquisition_segment_counts'].copy()\n",
    "df_acq_agg = data_dict['acquisition_agg'].copy()\n",
    "\n",
    "# Set indices\n",
    "df_acq_agg.set_index('Variant', inplace=True)\n",
    "df_acq_segment.set_index('Variant', inplace=True)\n",
    "df_perf.set_index(['Months Since Conversion', 'Test Group', 'Segment'], \n",
    "                  inplace=True)\n",
    "\n",
    "# Reorder rows for convenience in NHST\n",
    "df_acq_agg = df_acq_agg.reindex(index=df_acq_agg.index[::-1])\n",
    "df_acq_segment = df_acq_segment.reindex(index=df_acq_segment.index[::-1])"
   ]
  },
  {
   "cell_type": "markdown",
   "id": "f0391e35",
   "metadata": {},
   "source": [
    "## EDA\n",
    "\n",
    "The exploratory data analysis will largely be driven by the questions extracted from the case study prompt.\n",
    "\n",
    "**Notes**:\n",
    "\n",
    "- For the The _Treatment_, in this context, comprises a customer journey featuring a spend tracker, wherease the _Control_ arm is not availed of the existence of a spend tracker.\n",
    "- Average monthly spend for Segment B is _higher_ than Segment A's.\n",
    "- Members in Segment B are _more likely_ to have additional bank accounts in addition to Chime.\n",
    "- The Spend Tracker is free _to all members_ and will cost Chime \\$5 per member per month (PMPM), i.e., it is not revenue generating itself."
   ]
  },
  {
   "cell_type": "markdown",
   "id": "7441c269",
   "metadata": {},
   "source": [
    "### Acquisition\n",
    "\n",
    "- What does the funnel look like for Control vs. Treatment?\n",
    "- Assuming cogent data collection, did the Treatment drive lift in CTR? Conversions?\n",
    "- Segment A vs. Segment B: are the distributions of converted users different in each variant?\n",
    "- How does overall CAC compare for Control vs. Treatment?"
   ]
  },
  {
   "cell_type": "code",
   "execution_count": 5,
   "id": "3ab00824",
   "metadata": {},
   "outputs": [
    {
     "data": {
      "text/html": [
       "<div>\n",
       "<style scoped>\n",
       "    .dataframe tbody tr th:only-of-type {\n",
       "        vertical-align: middle;\n",
       "    }\n",
       "\n",
       "    .dataframe tbody tr th {\n",
       "        vertical-align: top;\n",
       "    }\n",
       "\n",
       "    .dataframe thead th {\n",
       "        text-align: right;\n",
       "    }\n",
       "</style>\n",
       "<table border=\"1\" class=\"dataframe\">\n",
       "  <thead>\n",
       "    <tr style=\"text-align: right;\">\n",
       "      <th></th>\n",
       "      <th>Spend</th>\n",
       "      <th>Population</th>\n",
       "      <th>Unique Clicks</th>\n",
       "      <th>Conversions</th>\n",
       "      <th>CTR</th>\n",
       "      <th>Click CR</th>\n",
       "      <th>User CR</th>\n",
       "      <th>CPUC</th>\n",
       "      <th>CAC</th>\n",
       "    </tr>\n",
       "    <tr>\n",
       "      <th>Variant</th>\n",
       "      <th></th>\n",
       "      <th></th>\n",
       "      <th></th>\n",
       "      <th></th>\n",
       "      <th></th>\n",
       "      <th></th>\n",
       "      <th></th>\n",
       "      <th></th>\n",
       "      <th></th>\n",
       "    </tr>\n",
       "  </thead>\n",
       "  <tbody>\n",
       "    <tr>\n",
       "      <th>Test</th>\n",
       "      <td>1020581</td>\n",
       "      <td>20214295</td>\n",
       "      <td>208206</td>\n",
       "      <td>23007</td>\n",
       "      <td>0.0103</td>\n",
       "      <td>0.110501</td>\n",
       "      <td>0.001138</td>\n",
       "      <td>4.901785</td>\n",
       "      <td>44.359586</td>\n",
       "    </tr>\n",
       "    <tr>\n",
       "      <th>Control</th>\n",
       "      <td>1010476</td>\n",
       "      <td>20014153</td>\n",
       "      <td>200140</td>\n",
       "      <td>19815</td>\n",
       "      <td>0.0100</td>\n",
       "      <td>0.099006</td>\n",
       "      <td>0.000990</td>\n",
       "      <td>5.048846</td>\n",
       "      <td>50.995508</td>\n",
       "    </tr>\n",
       "  </tbody>\n",
       "</table>\n",
       "</div>"
      ],
      "text/plain": [
       "           Spend  Population  Unique Clicks  Conversions     CTR  Click CR  \\\n",
       "Variant                                                                      \n",
       "Test     1020581    20214295         208206        23007  0.0103  0.110501   \n",
       "Control  1010476    20014153         200140        19815  0.0100  0.099006   \n",
       "\n",
       "          User CR      CPUC        CAC  \n",
       "Variant                                 \n",
       "Test     0.001138  4.901785  44.359586  \n",
       "Control  0.000990  5.048846  50.995508  "
      ]
     },
     "execution_count": 5,
     "metadata": {},
     "output_type": "execute_result"
    }
   ],
   "source": [
    "# Funnel metrics by variant\n",
    "df_acq_agg['CTR'] = df_acq_agg['Unique Clicks'] / df_acq_agg['Population']\n",
    "df_acq_agg['Click CR'] = df_acq_agg['Conversions'] / df_acq_agg['Unique Clicks']\n",
    "df_acq_agg['User CR'] = df_acq_agg['CTR'] * df_acq_agg['Click CR']\n",
    "\n",
    "# Cost-per-Unique-Click by variant\n",
    "df_acq_agg['CPUC'] = df_acq_agg['Spend'] / df_acq_agg['Unique Clicks']\n",
    "\n",
    "# Cost-per-Conversion by variant\n",
    "df_acq_agg['CAC'] = df_acq_agg['Spend'] / df_acq_agg['Conversions']\n",
    "\n",
    "df_acq_agg"
   ]
  },
  {
   "cell_type": "markdown",
   "id": "76b892ab",
   "metadata": {},
   "source": [
    "#### Experimental Analysis: User Conversions\n",
    "\n",
    "We'll start with a Frequentist's approach following the traditional null hypothesis signifance testing model.\n",
    "\n",
    "We ultimately care about the conversion lift generated by advertising Chime's product _with_ the spend tracker vs. Control condition. Stated formally,\n",
    "\n",
    "$$\n",
    "H_{0}: p_{T} - p_{C} = 0\\\\\n",
    "H_{a}: p_{T} - p_{C} > 0\n",
    "$$\n",
    "\n",
    "where $p_{T}$ and $p_{C}$ are the proportion of converted users in the Treatment and Control populations, respectively. The significance level, $\\alpha$ for this test is set to $0.05$.\n"
   ]
  },
  {
   "cell_type": "code",
   "execution_count": 6,
   "id": "8f927aa4",
   "metadata": {},
   "outputs": [
    {
     "name": "stdout",
     "output_type": "stream",
     "text": [
      "User Conversion Rate p-value: 2.460543238137127e-47; statistically significant? True\n",
      "Click-thru-rate (CTR) p-value: 1.1368573134571388e-21; statistically significant? True\n"
     ]
    }
   ],
   "source": [
    "# Set significance level\n",
    "alpha = 0.05\n",
    "\n",
    "# Calculate test statistics, p-value for User CR\n",
    "user_CR_test_stat, user_CR_p_value = proportions_ztest(\n",
    "    count=df_acq_agg['Conversions'], \n",
    "    nobs=df_acq_agg['Population'], \n",
    "    alternative='larger'\n",
    ")\n",
    "\n",
    "print(f\"User Conversion Rate p-value: {user_CR_p_value}; statistically significant? {user_CR_p_value < alpha}\")\n",
    "\n",
    "# Calculate test statistics, p-value for CTR\n",
    "CTR_test_stat, CTR_p_value = proportions_ztest(\n",
    "    count=df_acq_agg['Unique Clicks'], \n",
    "    nobs=df_acq_agg['Population'], \n",
    "    alternative='larger'\n",
    ")\n",
    "\n",
    "print(f\"Click-thru-rate (CTR) p-value: {CTR_p_value}; statistically significant? {CTR_p_value < alpha}\")"
   ]
  },
  {
   "cell_type": "markdown",
   "id": "97bf7f1f",
   "metadata": {},
   "source": [
    "Both CTR and User CR are far below our significance level, indicating that the lift we're seeing is statistically significant. On a practical level, the c. 200 bps different in conversion rate is non-trivial (as we'll see when I turn my attention to the unit economics of the variants)!"
   ]
  },
  {
   "cell_type": "markdown",
   "id": "0a982b16",
   "metadata": {},
   "source": [
    "#### Converted Users: Segment Distributions\n",
    "\n",
    "I want to investigate whether the Treatment shifted the distribution of users (by segment) relative to Control. Let's visualize the segment distributions by variant:"
   ]
  },
  {
   "cell_type": "code",
   "execution_count": 10,
   "id": "78f7e07f",
   "metadata": {},
   "outputs": [
    {
     "name": "stdout",
     "output_type": "stream",
     "text": [
      "SE (Proportion of Segment B User Conversions, Test): 0.0032840058487101113\n",
      "SE (Proportion of Segment B User Conversions, Control): 0.0035520896644976245\n"
     ]
    }
   ],
   "source": [
    "# Break out data for standard errors, means\n",
    "test_user_segmented = np.concatenate((np.zeros(df_acq_segment.loc['Test', 'Segment A']),\n",
    "                                      np.ones(df_acq_segment.loc['Test', 'Segment B'])), \n",
    "                                     axis=0)\n",
    "\n",
    "control_user_segmented = np.concatenate((np.zeros(df_acq_segment.loc['Control', 'Segment A']),\n",
    "                                         np.ones(df_acq_segment.loc['Control', 'Segment B'])), \n",
    "                                        axis=0)\n",
    "\n",
    "# Sample stats, proportion of Segment B user conversions\n",
    "test_std_error = sem(test_user_segmented)\n",
    "control_std_error = sem(control_user_segmented)\n",
    "\n",
    "print(f\"SE (Proportion of Segment B User Conversions, Test): {test_std_error}\")\n",
    "print(f\"SE (Proportion of Segment B User Conversions, Control): {control_std_error}\")"
   ]
  },
  {
   "cell_type": "markdown",
   "id": "f6abf9cf",
   "metadata": {},
   "source": [
    "Unsurprisingly, the standard errors of the estimate of the true proportion of Segment B user conversions in each variant is tiny (given large $n$)."
   ]
  },
  {
   "cell_type": "code",
   "execution_count": 13,
   "id": "3e85b8ef",
   "metadata": {},
   "outputs": [
    {
     "data": {
      "image/png": "[encoded data removed]",
      "text/plain": [
       "<Figure size 720x432 with 1 Axes>"
      ]
     },
     "metadata": {
      "image/png": {
       "height": 423,
       "width": 713
      },
      "needs_background": "light"
     },
     "output_type": "display_data"
    }
   ],
   "source": [
    "# Set up plots\n",
    "fig, ax = plt.subplots(1, 1, figsize=(10, 6), sharey=True)\n",
    "xs = np.array([0, 1])\n",
    "width = .35\n",
    "\n",
    "# Plot data\n",
    "ax.bar(xs, height=df_acq_segment['Segment A'] / df_acq_segment['Total'], \n",
    "       width=width, label='Segment A')\n",
    "ax.bar(xs + width, height=df_acq_segment['Segment B']  / df_acq_segment['Total'], \n",
    "       width=width, label='Segment B', yerr=[test_std_error, control_std_error])\n",
    "\n",
    "# Cosmetic adjustments\n",
    "ax.spines['top'].set_visible(False)\n",
    "ax.spines['right'].set_visible(False)\n",
    "ax.set_title('Variant Segment User Conversion Rate Distributions')\n",
    "ax.set_xticks(xs + width / 2)\n",
    "ax.set_xticklabels(['Test', 'Control'])\n",
    "ax.set_ylim(0, 1)\n",
    "ax.yaxis.set_major_formatter(mtick.PercentFormatter(1.0))\n",
    "\n",
    "# Show plot\n",
    "plt.legend()\n",
    "plt.tight_layout()\n",
    "plt.show()\n"
   ]
  },
  {
   "cell_type": "markdown",
   "id": "9da11a75",
   "metadata": {},
   "source": [
    "A Bayesian approach seems particularly apt here, since the conditional segment distributions are characterized by $p_{B|i}$, probability of a converted user being a Segment B user given a particular variant. We don't know these ahead of time, but our experiment has provided data that we can apply to our prior beliefs about what these parameters might be.\n",
    "\n",
    "Using the Control as a prior, we can determine the posterior distribution given the data we actually observed. Simulating from this distribution will allow us to make statements about how and to what degree we expect the spend tracker feature to impact the distribution of user conversion. We'll leverage the beta-binomial conjugacy to keep the prior and posterior in the same family of distributions."
   ]
  },
  {
   "cell_type": "code",
   "execution_count": null,
   "id": "35787fd9",
   "metadata": {},
   "outputs": [],
   "source": []
  },
  {
   "cell_type": "markdown",
   "id": "5e76f586",
   "metadata": {},
   "source": [
    "### Profitability\n",
    "\n",
    "**Hypothesis**: The spend tracker helps overall profitability by driving more cumulative spending per member over their lifetime. The lift in profitability can be decomposed into:\n",
    "- Incremental profitability due to _higher retention per member_.\n",
    "- Incremental profitability due to _higher avergage monthly spend per member_."
   ]
  },
  {
   "cell_type": "code",
   "execution_count": 9,
   "id": "943889e3",
   "metadata": {},
   "outputs": [
    {
     "data": {
      "text/html": [
       "<div>\n",
       "<style scoped>\n",
       "    .dataframe tbody tr th:only-of-type {\n",
       "        vertical-align: middle;\n",
       "    }\n",
       "\n",
       "    .dataframe tbody tr th {\n",
       "        vertical-align: top;\n",
       "    }\n",
       "\n",
       "    .dataframe thead th {\n",
       "        text-align: right;\n",
       "    }\n",
       "</style>\n",
       "<table border=\"1\" class=\"dataframe\">\n",
       "  <thead>\n",
       "    <tr style=\"text-align: right;\">\n",
       "      <th></th>\n",
       "      <th></th>\n",
       "      <th></th>\n",
       "      <th>Active User Count</th>\n",
       "      <th>Total Purchase Dollars</th>\n",
       "      <th>Spend Tracker Active User Count</th>\n",
       "    </tr>\n",
       "    <tr>\n",
       "      <th>Months Since Conversion</th>\n",
       "      <th>Test Group</th>\n",
       "      <th>Segment</th>\n",
       "      <th></th>\n",
       "      <th></th>\n",
       "      <th></th>\n",
       "    </tr>\n",
       "  </thead>\n",
       "  <tbody>\n",
       "    <tr>\n",
       "      <th>0</th>\n",
       "      <th>Control</th>\n",
       "      <th>Segment A</th>\n",
       "      <td>9906</td>\n",
       "      <td>11887200.12</td>\n",
       "      <td>0</td>\n",
       "    </tr>\n",
       "    <tr>\n",
       "      <th>1</th>\n",
       "      <th>Control</th>\n",
       "      <th>Segment A</th>\n",
       "      <td>9708</td>\n",
       "      <td>11766096.57</td>\n",
       "      <td>0</td>\n",
       "    </tr>\n",
       "    <tr>\n",
       "      <th>2</th>\n",
       "      <th>Control</th>\n",
       "      <th>Segment A</th>\n",
       "      <td>9028</td>\n",
       "      <td>10725264.67</td>\n",
       "      <td>0</td>\n",
       "    </tr>\n",
       "    <tr>\n",
       "      <th>3</th>\n",
       "      <th>Control</th>\n",
       "      <th>Segment A</th>\n",
       "      <td>8486</td>\n",
       "      <td>10081368.11</td>\n",
       "      <td>0</td>\n",
       "    </tr>\n",
       "    <tr>\n",
       "      <th>4</th>\n",
       "      <th>Control</th>\n",
       "      <th>Segment A</th>\n",
       "      <td>8153</td>\n",
       "      <td>9783600.30</td>\n",
       "      <td>0</td>\n",
       "    </tr>\n",
       "    <tr>\n",
       "      <th>...</th>\n",
       "      <th>...</th>\n",
       "      <th>...</th>\n",
       "      <td>...</td>\n",
       "      <td>...</td>\n",
       "      <td>...</td>\n",
       "    </tr>\n",
       "    <tr>\n",
       "      <th>14</th>\n",
       "      <th>Test</th>\n",
       "      <th>Segment B</th>\n",
       "      <td>8618</td>\n",
       "      <td>17071598.41</td>\n",
       "      <td>5019</td>\n",
       "    </tr>\n",
       "    <tr>\n",
       "      <th>15</th>\n",
       "      <th>Test</th>\n",
       "      <th>Segment B</th>\n",
       "      <td>8672</td>\n",
       "      <td>17178574.49</td>\n",
       "      <td>5079</td>\n",
       "    </tr>\n",
       "    <tr>\n",
       "      <th>16</th>\n",
       "      <th>Test</th>\n",
       "      <th>Segment B</th>\n",
       "      <td>8583</td>\n",
       "      <td>17174252.22</td>\n",
       "      <td>5106</td>\n",
       "    </tr>\n",
       "    <tr>\n",
       "      <th>17</th>\n",
       "      <th>Test</th>\n",
       "      <th>Segment B</th>\n",
       "      <td>8514</td>\n",
       "      <td>17207299.54</td>\n",
       "      <td>4992</td>\n",
       "    </tr>\n",
       "    <tr>\n",
       "      <th>18</th>\n",
       "      <th>Test</th>\n",
       "      <th>Segment B</th>\n",
       "      <td>8458</td>\n",
       "      <td>16924371.24</td>\n",
       "      <td>5038</td>\n",
       "    </tr>\n",
       "  </tbody>\n",
       "</table>\n",
       "<p>76 rows × 3 columns</p>\n",
       "</div>"
      ],
      "text/plain": [
       "                                              Active User Count  \\\n",
       "Months Since Conversion Test Group Segment                        \n",
       "0                       Control    Segment A               9906   \n",
       "1                       Control    Segment A               9708   \n",
       "2                       Control    Segment A               9028   \n",
       "3                       Control    Segment A               8486   \n",
       "4                       Control    Segment A               8153   \n",
       "...                                                         ...   \n",
       "14                      Test       Segment B               8618   \n",
       "15                      Test       Segment B               8672   \n",
       "16                      Test       Segment B               8583   \n",
       "17                      Test       Segment B               8514   \n",
       "18                      Test       Segment B               8458   \n",
       "\n",
       "                                              Total Purchase Dollars  \\\n",
       "Months Since Conversion Test Group Segment                             \n",
       "0                       Control    Segment A             11887200.12   \n",
       "1                       Control    Segment A             11766096.57   \n",
       "2                       Control    Segment A             10725264.67   \n",
       "3                       Control    Segment A             10081368.11   \n",
       "4                       Control    Segment A              9783600.30   \n",
       "...                                                              ...   \n",
       "14                      Test       Segment B             17071598.41   \n",
       "15                      Test       Segment B             17178574.49   \n",
       "16                      Test       Segment B             17174252.22   \n",
       "17                      Test       Segment B             17207299.54   \n",
       "18                      Test       Segment B             16924371.24   \n",
       "\n",
       "                                              Spend Tracker Active User Count  \n",
       "Months Since Conversion Test Group Segment                                     \n",
       "0                       Control    Segment A                                0  \n",
       "1                       Control    Segment A                                0  \n",
       "2                       Control    Segment A                                0  \n",
       "3                       Control    Segment A                                0  \n",
       "4                       Control    Segment A                                0  \n",
       "...                                                                       ...  \n",
       "14                      Test       Segment B                             5019  \n",
       "15                      Test       Segment B                             5079  \n",
       "16                      Test       Segment B                             5106  \n",
       "17                      Test       Segment B                             4992  \n",
       "18                      Test       Segment B                             5038  \n",
       "\n",
       "[76 rows x 3 columns]"
      ]
     },
     "execution_count": 9,
     "metadata": {},
     "output_type": "execute_result"
    }
   ],
   "source": [
    "df_perf"
   ]
  },
  {
   "cell_type": "markdown",
   "id": "d5c20605",
   "metadata": {},
   "source": [
    "### Member Value\n",
    "\n",
    "From the case study prompt:\n",
    "\n",
    "> To evaluate value to members, we look at what percentage of our members test the feature and continue to use it through time.\n"
   ]
  }
 ],
 "metadata": {
  "kernelspec": {
   "display_name": "Python 3",
   "language": "python",
   "name": "python3"
  },
  "language_info": {
   "codemirror_mode": {
    "name": "ipython",
    "version": 3
   },
   "file_extension": ".py",
   "mimetype": "text/x-python",
   "name": "python",
   "nbconvert_exporter": "python",
   "pygments_lexer": "ipython3",
   "version": "3.9.4"
  }
 },
 "nbformat": 4,
 "nbformat_minor": 5
}
