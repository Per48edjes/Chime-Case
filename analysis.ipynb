{
 "cells": [
  {
   "cell_type": "markdown",
   "id": "4a6a9844",
   "metadata": {},
   "source": [
    "# Chime Case Study\n",
    "Ravi Dayabhai"
   ]
  },
  {
   "cell_type": "code",
   "execution_count": 1,
   "id": "55bf4396",
   "metadata": {},
   "outputs": [],
   "source": [
    "%load_ext autoreload\n",
    "%autoreload 2\n",
    "%config InlineBackend.figure_format = 'retina'\n",
    "%matplotlib inline"
   ]
  },
  {
   "cell_type": "code",
   "execution_count": 2,
   "id": "31f014e5",
   "metadata": {
    "scrolled": false
   },
   "outputs": [],
   "source": [
    "# Import dependencies\n",
    "from collections import OrderedDict\n",
    "\n",
    "import pandas as pd\n",
    "import numpy as np\n",
    "import matplotlib.pyplot as plt\n",
    "import matplotlib.ticker as mtick\n",
    "from scipy.stats import sem, beta, binom, mstats\n",
    "from statsmodels.stats.proportion import proportions_ztest\n",
    "from lifelines.statistics import survival_difference_at_fixed_point_in_time_test\n",
    "from lifelines.utils import median_survival_times, restricted_mean_survival_time\n",
    "import pymc3 as pm\n",
    "\n",
    "# Custom code\n",
    "from helpers import SPEND_TRACKER_PMPM\n",
    "from helpers.ltv_sensitivity import run_sim, calculate_spend_tracker_breakeven\n",
    "from helpers.load import df_perf, df_acq_agg, df_acq_segment\n",
    "from helpers.viz import bps\n",
    "from helpers.cohort import (Cohort, control, test, control_A, control_B, test_A, test_B)"
   ]
  },
  {
   "cell_type": "code",
   "execution_count": 3,
   "id": "95fdda77",
   "metadata": {},
   "outputs": [
    {
     "data": {
      "text/plain": [
       "4"
      ]
     },
     "execution_count": 3,
     "metadata": {},
     "output_type": "execute_result"
    }
   ],
   "source": [
    "# SCENARIO\n",
    "SPEND_TRACKER_PMPM"
   ]
  },
  {
   "cell_type": "markdown",
   "id": "3c2a1baa",
   "metadata": {},
   "source": [
    "## Data Load / Processing\n",
    "\n",
    "Luckily, these data are super clean and relatively small. Conversion to CSVs ensured data type integrity and these toy data contain no nulls. (See `helpers.load` for more information.)"
   ]
  },
  {
   "cell_type": "markdown",
   "id": "546ae7a5",
   "metadata": {},
   "source": [
    "## EDA\n",
    "\n",
    "The exploratory data analysis will largely be driven by the questions extracted from the case study prompt.\n",
    "\n",
    "**Notes**:\n",
    "\n",
    "- For the _Test_, in this context, comprises a customer journey featuring a spend tracker, wherease the _Control_ arm is not availed of the existence of a spend tracker.\n",
    "- Average monthly spend for Segment B is _higher_ than Segment A's.\n",
    "- Members in Segment B are _more likely_ to have additional bank accounts in addition to Chime.\n",
    "- The Spend Tracker is free _to all members_ and will cost Chime \\$5 per member per month (PMPM) for _users that use it_, i.e., it is not revenue generating itself.\n"
   ]
  },
  {
   "cell_type": "markdown",
   "id": "812ae261",
   "metadata": {},
   "source": [
    "### Acquisition\n",
    "\n",
    "- What does the funnel look like for Control vs. Treatment?\n",
    "- Assuming cogent data collection, did the Treatment drive lift in CTR? Conversions?\n",
    "- Segment A vs. Segment B: are the distributions of converted users different in each variant?\n",
    "- How does overall CAC compare for Control vs. Treatment?"
   ]
  },
  {
   "cell_type": "code",
   "execution_count": 4,
   "id": "f18c3e9c",
   "metadata": {},
   "outputs": [
    {
     "data": {
      "text/html": [
       "<div>\n",
       "<style scoped>\n",
       "    .dataframe tbody tr th:only-of-type {\n",
       "        vertical-align: middle;\n",
       "    }\n",
       "\n",
       "    .dataframe tbody tr th {\n",
       "        vertical-align: top;\n",
       "    }\n",
       "\n",
       "    .dataframe thead th {\n",
       "        text-align: right;\n",
       "    }\n",
       "</style>\n",
       "<table border=\"1\" class=\"dataframe\">\n",
       "  <thead>\n",
       "    <tr style=\"text-align: right;\">\n",
       "      <th></th>\n",
       "      <th>Spend</th>\n",
       "      <th>Population</th>\n",
       "      <th>Unique Clicks</th>\n",
       "      <th>Conversions</th>\n",
       "      <th>CTR</th>\n",
       "      <th>Click CR</th>\n",
       "      <th>User CR</th>\n",
       "      <th>CPUC</th>\n",
       "      <th>CAC</th>\n",
       "    </tr>\n",
       "    <tr>\n",
       "      <th>Variant</th>\n",
       "      <th></th>\n",
       "      <th></th>\n",
       "      <th></th>\n",
       "      <th></th>\n",
       "      <th></th>\n",
       "      <th></th>\n",
       "      <th></th>\n",
       "      <th></th>\n",
       "      <th></th>\n",
       "    </tr>\n",
       "  </thead>\n",
       "  <tbody>\n",
       "    <tr>\n",
       "      <th>Test</th>\n",
       "      <td>1020581</td>\n",
       "      <td>20214295</td>\n",
       "      <td>208206</td>\n",
       "      <td>23007</td>\n",
       "      <td>0.0103</td>\n",
       "      <td>0.110501</td>\n",
       "      <td>0.001138</td>\n",
       "      <td>4.901785</td>\n",
       "      <td>44.359586</td>\n",
       "    </tr>\n",
       "    <tr>\n",
       "      <th>Control</th>\n",
       "      <td>1010476</td>\n",
       "      <td>20014153</td>\n",
       "      <td>200140</td>\n",
       "      <td>19815</td>\n",
       "      <td>0.0100</td>\n",
       "      <td>0.099006</td>\n",
       "      <td>0.000990</td>\n",
       "      <td>5.048846</td>\n",
       "      <td>50.995508</td>\n",
       "    </tr>\n",
       "  </tbody>\n",
       "</table>\n",
       "</div>"
      ],
      "text/plain": [
       "           Spend  Population  Unique Clicks  Conversions     CTR  Click CR  \\\n",
       "Variant                                                                      \n",
       "Test     1020581    20214295         208206        23007  0.0103  0.110501   \n",
       "Control  1010476    20014153         200140        19815  0.0100  0.099006   \n",
       "\n",
       "          User CR      CPUC        CAC  \n",
       "Variant                                 \n",
       "Test     0.001138  4.901785  44.359586  \n",
       "Control  0.000990  5.048846  50.995508  "
      ]
     },
     "execution_count": 4,
     "metadata": {},
     "output_type": "execute_result"
    }
   ],
   "source": [
    "# Show funnel\n",
    "df_acq_agg"
   ]
  },
  {
   "cell_type": "code",
   "execution_count": 5,
   "id": "88f18988",
   "metadata": {},
   "outputs": [
    {
     "data": {
      "text/html": [
       "<div>\n",
       "<style scoped>\n",
       "    .dataframe tbody tr th:only-of-type {\n",
       "        vertical-align: middle;\n",
       "    }\n",
       "\n",
       "    .dataframe tbody tr th {\n",
       "        vertical-align: top;\n",
       "    }\n",
       "\n",
       "    .dataframe thead th {\n",
       "        text-align: right;\n",
       "    }\n",
       "</style>\n",
       "<table border=\"1\" class=\"dataframe\">\n",
       "  <thead>\n",
       "    <tr style=\"text-align: right;\">\n",
       "      <th></th>\n",
       "      <th>Segment A</th>\n",
       "      <th>Segment B</th>\n",
       "      <th>Total</th>\n",
       "    </tr>\n",
       "    <tr>\n",
       "      <th>Variant</th>\n",
       "      <th></th>\n",
       "      <th></th>\n",
       "      <th></th>\n",
       "    </tr>\n",
       "  </thead>\n",
       "  <tbody>\n",
       "    <tr>\n",
       "      <th>Test</th>\n",
       "      <td>10504</td>\n",
       "      <td>12503</td>\n",
       "      <td>23007</td>\n",
       "    </tr>\n",
       "    <tr>\n",
       "      <th>Control</th>\n",
       "      <td>9906</td>\n",
       "      <td>9909</td>\n",
       "      <td>19815</td>\n",
       "    </tr>\n",
       "  </tbody>\n",
       "</table>\n",
       "</div>"
      ],
      "text/plain": [
       "         Segment A  Segment B  Total\n",
       "Variant                             \n",
       "Test         10504      12503  23007\n",
       "Control       9906       9909  19815"
      ]
     },
     "execution_count": 5,
     "metadata": {},
     "output_type": "execute_result"
    }
   ],
   "source": [
    "df_acq_segment "
   ]
  },
  {
   "cell_type": "markdown",
   "id": "764d6eed",
   "metadata": {},
   "source": [
    "#### Assumption: CAC (Cost per Conversion)\n",
    "\n",
    "I am making the assumption that _segment_-level CAC is the same as the test group defining the cohort. That is to say, for example, that _all_ users from the Control group have the same CAC. Said another way, I'm assuming that the CAC for Segment A vs. B users for a particular test group are the same."
   ]
  },
  {
   "cell_type": "markdown",
   "id": "5c2dc6a0",
   "metadata": {},
   "source": [
    "#### Experimental Analysis: User Conversions\n",
    "\n",
    "We'll start with a Frequentist's approach following the traditional null hypothesis signifance testing model.\n",
    "\n",
    "We ultimately care about the conversion lift generated by advertising Chime's product _with_ the spend tracker vs. Control condition. Stated formally,\n",
    "\n",
    "$$\n",
    "H_{0}: p_{T} - p_{C} = 0\\\\\n",
    "H_{a}: p_{T} - p_{C} > 0\n",
    "$$\n",
    "\n",
    "where $p_{T}$ and $p_{C}$ are the proportion of converted users in the Treatment and Control populations, respectively. The significance level, $\\alpha$ for this test is set to $0.05$.\n"
   ]
  },
  {
   "cell_type": "code",
   "execution_count": 6,
   "id": "6df6cfd7",
   "metadata": {},
   "outputs": [
    {
     "name": "stdout",
     "output_type": "stream",
     "text": [
      "User Conversion Rate p-value: 2.460543238137127e-47; statistically significant? True\n",
      "Click-thru-rate (CTR) p-value: 1.1368573134571388e-21; statistically significant? True\n"
     ]
    }
   ],
   "source": [
    "# Set significance level\n",
    "alpha = 0.05\n",
    "\n",
    "# Calculate test statistics, p-value for User CR\n",
    "user_CR_test_stat, user_CR_p_value = proportions_ztest(\n",
    "    count=df_acq_agg['Conversions'], \n",
    "    nobs=df_acq_agg['Population'], \n",
    "    alternative='larger'\n",
    ")\n",
    "\n",
    "print(f\"User Conversion Rate p-value: {user_CR_p_value}; statistically significant? {user_CR_p_value < alpha}\")\n",
    "\n",
    "# Calculate test statistics, p-value for CTR\n",
    "CTR_test_stat, CTR_p_value = proportions_ztest(\n",
    "    count=df_acq_agg['Unique Clicks'], \n",
    "    nobs=df_acq_agg['Population'], \n",
    "    alternative='larger'\n",
    ")\n",
    "\n",
    "print(f\"Click-thru-rate (CTR) p-value: {CTR_p_value}; statistically significant? {CTR_p_value < alpha}\")"
   ]
  },
  {
   "cell_type": "markdown",
   "id": "cc16636c",
   "metadata": {},
   "source": [
    "Both CTR and User CR are far below our significance level, indicating that the lift we're seeing is statistically significant. On a practical level, the c. 200 bps different in conversion rate is non-trivial (as we'll see when I turn my attention to the unit economics of the variants)!"
   ]
  },
  {
   "cell_type": "markdown",
   "id": "b0a4574a",
   "metadata": {},
   "source": [
    "#### Converted Users: Segment Distributions\n",
    "\n",
    "I want to investigate whether the Treatment shifted the distribution of users (by segment) relative to Control. Let's visualize the segment distributions by variant:"
   ]
  },
  {
   "cell_type": "code",
   "execution_count": 7,
   "id": "b6ef6aaa",
   "metadata": {},
   "outputs": [
    {
     "name": "stdout",
     "output_type": "stream",
     "text": [
      "Mean (Proportion of Segment B User Conversions, Test): 0.5434432998652584\n",
      "Mean (Proportion of Segment B User Conversions, Control): 0.5000757002271007\n",
      "SE (Proportion of Segment B User Conversions, Test): 0.0032840058487101113\n",
      "SE (Proportion of Segment B User Conversions, Control): 0.0035520896644976245\n"
     ]
    },
    {
     "data": {
      "text/plain": [
       "0.04336759963815773"
      ]
     },
     "execution_count": 7,
     "metadata": {},
     "output_type": "execute_result"
    }
   ],
   "source": [
    "# Break out data for standard errors, means\n",
    "test_user_segmented = np.concatenate((np.zeros(df_acq_segment.loc['Test', 'Segment A']),\n",
    "                                      np.ones(df_acq_segment.loc['Test', 'Segment B'])), \n",
    "                                     axis=0)\n",
    "\n",
    "control_user_segmented = np.concatenate((np.zeros(df_acq_segment.loc['Control', 'Segment A']),\n",
    "                                         np.ones(df_acq_segment.loc['Control', 'Segment B'])), \n",
    "                                        axis=0)\n",
    "\n",
    "# Sample stats, proportion of Segment B user conversions\n",
    "test_std_error = sem(test_user_segmented)\n",
    "control_std_error = sem(control_user_segmented)\n",
    "test_mean = test_user_segmented.mean()\n",
    "control_mean = control_user_segmented.mean()\n",
    "\n",
    "print(f\"Mean (Proportion of Segment B User Conversions, Test): {test_mean}\")\n",
    "print(f\"Mean (Proportion of Segment B User Conversions, Control): {control_mean}\")\n",
    "print(f\"SE (Proportion of Segment B User Conversions, Test): {test_std_error}\")\n",
    "print(f\"SE (Proportion of Segment B User Conversions, Control): {control_std_error}\")\n",
    "\n",
    "test_mean - control_mean"
   ]
  },
  {
   "cell_type": "markdown",
   "id": "72d998e9",
   "metadata": {},
   "source": [
    "The observed data suggests a MLE difference (which we'll refer to as $\\Delta$) of roughly 430 bps.\n",
    "\n",
    "Unsurprisingly, the standard errors of the estimate of the true proportion of Segment B user conversions in each variant is tiny (given large $n$)."
   ]
  },
  {
   "cell_type": "code",
   "execution_count": 8,
   "id": "697b39e7",
   "metadata": {},
   "outputs": [
    {
     "data": {
      "image/png": "[encoded data removed]",
      "text/plain": [
       "<Figure size 720x432 with 1 Axes>"
      ]
     },
     "metadata": {
      "image/png": {
       "height": 423,
       "width": 712
      },
      "needs_background": "light"
     },
     "output_type": "display_data"
    }
   ],
   "source": [
    "# Set up plots\n",
    "fig, ax = plt.subplots(1, 1, figsize=(10, 6), sharey=True)\n",
    "xs = np.array([0, 1])\n",
    "width = .35\n",
    "\n",
    "# Plot data\n",
    "ax.bar(xs, height=df_acq_segment['Segment A'] / df_acq_segment['Total'], \n",
    "       width=width, label='Segment A')\n",
    "ax.bar(xs + width, height=df_acq_segment['Segment B']  / df_acq_segment['Total'], \n",
    "       width=width, label='Segment B', yerr=[test_std_error, control_std_error])\n",
    "\n",
    "# Cosmetic adjustments\n",
    "ax.spines['top'].set_visible(False)\n",
    "ax.spines['right'].set_visible(False)\n",
    "ax.set_title('Segment User Conversion Distributions by Test Group')\n",
    "plt.ylabel('Proportion of Users in Test Group')\n",
    "ax.set_xticks(xs + width / 2)\n",
    "ax.set_xticklabels(['Test', 'Control'])\n",
    "ax.set_ylim(0, 1)\n",
    "ax.yaxis.set_major_formatter(mtick.PercentFormatter(1.0))\n",
    "\n",
    "# Show plot\n",
    "plt.legend()\n",
    "plt.tight_layout()\n",
    "plt.show()\n"
   ]
  },
  {
   "cell_type": "markdown",
   "id": "449c1f95",
   "metadata": {},
   "source": [
    "A Bayesian approach seems particularly apt here, since the conditional segment distributions are characterized by $p_{B|i}, i \\in \\{C, T\\}$, probability of a converted user being a Segment B user given a particular variant. We don't know these ahead of time, but our experiment has provided data that we can apply to our prior beliefs about what these parameters might be.\n",
    "\n",
    "Using flat prior, we can determine the posterior distribution given the data we actually observed. Simulating from this distribution will allow us to make statements about how and to what degree we expect the spend tracker feature to impact the distribution of user conversion. We'll leverage the beta-binomial conjugacy to keep the prior and posterior in the same family of distributions."
   ]
  },
  {
   "cell_type": "code",
   "execution_count": null,
   "id": "483df1ab",
   "metadata": {},
   "outputs": [
    {
     "name": "stderr",
     "output_type": "stream",
     "text": [
      "Auto-assigning NUTS sampler...\n",
      "Initializing NUTS using jitter+adapt_diag...\n",
      "Multiprocess sampling (4 chains in 4 jobs)\n",
      "NUTS: [test, control]\n"
     ]
    }
   ],
   "source": [
    "# Simulate outcomes from posterior distributions\n",
    "N = 20_000\n",
    "with pm.Model() as model:\n",
    "    \n",
    "    # Uninformed priors (standard uniform)\n",
    "    p_control = pm.Beta('control', 1, 1)\n",
    "    p_test = pm.Beta('test', 1, 1)\n",
    "    \n",
    "    # Deterministic difference function\n",
    "    delta = pm.Deterministic(\"delta\", p_test - p_control)\n",
    "\n",
    "    # Set of observations, in this case we have two observation datasets.\n",
    "    obs_test = pm.Bernoulli(\"obs_test\", p_test, observed=test_user_segmented)\n",
    "    obs_control = pm.Bernoulli(\"obs_control\", p_control, observed=control_user_segmented)\n",
    "    \n",
    "    # Run simulation\n",
    "    trace = pm.sample(N, return_inferencedata=False)\n",
    "    burned_trace = trace[1000:]"
   ]
  },
  {
   "cell_type": "code",
   "execution_count": null,
   "id": "fd0aa44f",
   "metadata": {},
   "outputs": [],
   "source": [
    "# Get data\n",
    "plot_data = {}\n",
    "plot_data['p_control_samples'] = burned_trace['control']\n",
    "plot_data['p_test_samples'] = burned_trace['test']\n",
    "plot_data['delta_samples'] = burned_trace['delta']"
   ]
  },
  {
   "cell_type": "code",
   "execution_count": null,
   "id": "8f15c7a3",
   "metadata": {},
   "outputs": [],
   "source": [
    "# Set up plots\n",
    "plt.figure(figsize=(12,8)) \n",
    "\n",
    "# Plot data\n",
    "delta_samples = plot_data['delta_samples']\n",
    "bins = 20\n",
    "weights = np.ones_like(delta_samples) / float(len(delta_samples))\n",
    "plt.hist(delta_samples, bins=bins, weights=weights, \n",
    "         alpha=0.85, histtype='stepfilled')\n",
    "\n",
    "# Cosmetic adjustments\n",
    "plt.xlim(left = -0.05)\n",
    "plt.ylim(0, 1)\n",
    "plt.title('Relative Lift of % Segment B Customers (from Test)', fontsize=14)\n",
    "plt.ylabel('Simulation Outcome Frequency')\n",
    "plt.xlabel('$\\Delta = \\hat{p}_{B|T} - \\hat{p}_{B|C}$')\n",
    "plt.vlines(0, 0, 1, color='black', ls='--', lw=0.5)\n",
    "ax = plt.gca()\n",
    "ax.spines['top'].set_visible(False)\n",
    "ax.spines['right'].set_visible(False)\n",
    "ax.xaxis.set_major_formatter(bps)\n",
    "ax.yaxis.set_major_formatter(mtick.PercentFormatter(1.0))\n",
    "\n",
    "# Show plot\n",
    "plt.show()"
   ]
  },
  {
   "cell_type": "code",
   "execution_count": null,
   "id": "4bf00039",
   "metadata": {},
   "outputs": [],
   "source": [
    "# Summarize outcomes\n",
    "print(f\"P(Test produces relatively FEWER Segment B customers): {np.mean(delta_samples < 0)}\")\n",
    "print(f\"P(Test produces relatively MORE Segment B customers): {np.mean(delta_samples > 0)}\")\n",
    "\n",
    "print(f\"P(Test lift is 4% or MORE): {np.mean(delta_samples > 0.04)}\")"
   ]
  },
  {
   "cell_type": "markdown",
   "id": "0f483994",
   "metadata": {},
   "source": [
    "Unsurprisingly, the $p$-value analogue in this context (i.e., $P(\\Delta \\leq 0)$) is vanishingly small. With roughly 75% probability, the lift (in relative proportion of Segment B users vs. Segment A users) is greater than 4%."
   ]
  },
  {
   "cell_type": "markdown",
   "id": "02671d65",
   "metadata": {},
   "source": [
    "### Profitability\n",
    "\n",
    "I begin this section by discussing my approach to modeling LTV."
   ]
  },
  {
   "cell_type": "markdown",
   "id": "1cc74168",
   "metadata": {},
   "source": [
    "#### LTV Calculation\n",
    "\n",
    "There is no one way to calculate customer Lifetime Value (LTV)[1] and the various components of the metric are thorny for a whole host of reasons in a _non-contractual_ setting (like Chime's). For this exercise, I begin with the premise:\n",
    "\n",
    "$$\n",
    "E(\\text{LTV}) = \\sum_{t=0}^{\\infty} \\frac{E(m_{t}) S(t)}{(1 + d)^{t}} \n",
    "$$\n",
    "\n",
    "where $S(t)$ represents the probability a client survives at least until time $t$ and $E(m_{t})$ is the expected contribution margin (in currency units) at time $t$. The discount factor, $\\frac{1}{(1 + d)^{t}}$ simply discounts these cashflows appropriately. \n",
    "\n",
    "For the particular problem at hand, I'm using the observed data on hand as a point estimates for contribution margin through time $t=18$ (months) and estimating $S$ with a parametric model, $\\hat{S}$ so I can:\n",
    "\n",
    "1. Report expected lifetimes\n",
    "2. Produce $\\hat{h}(t)$, the hazard rate at time $t$, which will help determine the terminal LTV.\n",
    "\n",
    "I calculate terminal LTV as a residual value perpetuity based on the parameterized hazard and terminal contribution margin, resulting in our operationalized model for LTV:\n",
    "\n",
    "$$\n",
    "\\hat{E}(\\text{LTV}) = \\sum_{t=0}^{18} \\frac{m_{t} \\hat{S}(t)}{(1 + d)^{t}} + \\frac{\\hat{m}_{\\text{terminal}}(1 - \\hat{h}_{\\text{terminal}})}{(1 + d - (1 - \\hat{h}_{\\text{terminal}}))(1 + d)^{18}}\n",
    "$$\n",
    "\n",
    "Fitting a survival function for our data will yield $\\hat{h}$ (assumed be constant after having \"ramped\", i.e., $\\tau < t$) and $\\hat{S}$. Because much of the LTV is driven by the terminal LTV term, I run a simulation drawing from distributions governing $\\hat{h}_{\\text{terminal}}$ and $\\hat{m}_{\\text{terminal}}$ to approximate the uncertainty around our estimates / observed data.\n",
    "\n",
    "Running the model under various assumptions will give us a distribution of reasonable outcomes (a form of sensitivity analysis). (Time permitting, this can be further decomposed into each of the free variables' constituent parts.)\n",
    "\n",
    "Below, I discuss more about the assumptions made to arrive at an estimate of LTV.\n",
    "\n",
    "[1]: http://brucehardie.com/notes/033/what_is_wrong_with_this_CLV_formula.pdf\n",
    "[2]: http://brucehardie.com/notes/024/reconciling_clv_formulas.pdf"
   ]
  },
  {
   "cell_type": "markdown",
   "id": "e5be4a25",
   "metadata": {},
   "source": [
    "##### Contribution Margin, $m$\n",
    "\n",
    "I include the spend tracker per member per month cost as an ongoing \"maintaince\" cost amortized over all cohort users in the month because the cost is generated only for members that _use_ the tracker.\n",
    "\n",
    "I only have on observation of the values driving expected contribution margin, so as a simplifying assumpion, I am using essentially using these data to compute expected contribution margin for $t = \\{0, 1, 2, ..., 18\\}$:\n",
    "\n",
    "$$\n",
    "\\begin{align}\n",
    "E(m_{t}) = m_{t} =\\,  &\\underbrace{\\frac{\\text{Total Purchase Dollars}_{t} \\times (\\text{Interchange} - \\text{COGS})}{\\text{Original Cohort User Count}}}_{\\text{Gross Profit}_{t}}\\\\ \n",
    "&- \\left(\\frac{\\overbrace{5}^{\\text{Cost per Spend Tracker User}} \\times \\text{Spend Tracker User Count}_{t}}{\\text{Original Cohort User Count}}\\right)\n",
    "\\end{align}\n",
    "$$"
   ]
  },
  {
   "cell_type": "markdown",
   "id": "63cc97ef",
   "metadata": {},
   "source": [
    "#### Assumptions: Retention\n",
    "\n",
    "In order to proceed with any sort of calculation in this non-contractual setting, we have to make some sort of assumption regarding _retention_. We do not have data on the recency, frequency, or monetary value (RFM) at an individual level, so (to make do with the data  we have) **we will assume that Active User retention stands in for overall customer retention**.\n",
    "\n",
    "Implicitly, by equating Active User retention to overall customer retention, we're making the statement, \"The absence of purchasing by a customer means they have decided to end their 'relationship' with the Chime,\" rather than entertaining the notion that they intend (or will) transact again and we just haven't seen a transaction in the time period $t$ of interest.\n",
    "\n",
    "> One can talk about a repeat-buying rate, but that has nothing in common with a retention rate — it simply reflects the “presence/absence” of purchasing activities as opposed to the observed “survival/death” that is associated with the notion of a contractual relationship.[1] \n",
    "\n",
    "**Making this assumption will generally bias LTV _down_, making our estimates more conservative**; because the LTV estimate plays the role of providing a ceiling for how much we'd be willing to spend to acquire a desired customer, the risk we take is _under_-investing.\n",
    "\n",
    "[1]: http://brucehardie.com/notes/033/what_is_wrong_with_this_CLV_formula.pdf"
   ]
  },
  {
   "cell_type": "markdown",
   "id": "c8cac73d",
   "metadata": {},
   "source": [
    "#### Assumptions: Discount Factor, $d$\n",
    "\n",
    "I don't have a very well informed prior for monthly discount rate, $d$, so I assume a naïve 1% monthly discount rate by default."
   ]
  },
  {
   "cell_type": "markdown",
   "id": "4cac1fee",
   "metadata": {},
   "source": [
    "##### Estimated Survival Function, $\\hat{S}$\n",
    "\n",
    "A visual inspection of the observed survival (read: retention) curves (plotted here using the non-parametric, Kaplan-Meier estimator) shows that the monthly risk of churn dimishes markedly after the 1 year mark. Fitting **a piecewise exponential** model to each cohort's survival data (with a breakpoint $\\tau = 12$) will let us estimate the terminal hazard rate, $\\hat{h}_{\\text{terminal}}$ for the cohort."
   ]
  },
  {
   "cell_type": "code",
   "execution_count": null,
   "id": "71182696",
   "metadata": {},
   "outputs": [],
   "source": [
    "# Create containing structure for cohorts\n",
    "cohort_two_levels = OrderedDict()\n",
    "cohort_two_levels[(0,0)] = control_A\n",
    "cohort_two_levels[(0,1)] = control_B\n",
    "cohort_two_levels[(1,0)] = test_A\n",
    "cohort_two_levels[(1,1)] = test_B"
   ]
  },
  {
   "cell_type": "code",
   "execution_count": null,
   "id": "6734de9a",
   "metadata": {},
   "outputs": [],
   "source": [
    "# Set up plots\n",
    "fig, axes = plt.subplots(2, 2, figsize=(14, 8), sharex=True)\n",
    "\n",
    "# Plot data\n",
    "for k, v in cohort_two_levels.items():\n",
    "    i, j = k[0], k[1]\n",
    "    model_kmf = v.fit_survival_model('KaplanMeier')\n",
    "    model_pwexpo = v.fit_survival_model()\n",
    "    axes[i][j].plot(model_kmf.survival_function_, label='Observed')\n",
    "    axes[i][j].plot(model_pwexpo.survival_function_, label='Modeled')\n",
    "    \n",
    "    # Cosmetic adjustments\n",
    "    axes[i][j].spines['top'].set_visible(False)\n",
    "    axes[i][j].spines['right'].set_visible(False)\n",
    "    axes[i][j].set_xlim(0, 18)\n",
    "    axes[i][j].set_ylim(0.6, 1)\n",
    "    \n",
    "    if i == 0 and j == 0:\n",
    "        axes[i][j].set_ylabel('Control', fontweight='heavy', fontsize=10)\n",
    "    if i == 1 and j == 0:\n",
    "        axes[i][j].set_ylabel('Test', fontweight='heavy', fontsize=10)\n",
    "        axes[i][j].set_xlabel('Segment A', fontweight='heavy', fontsize=10)\n",
    "    if i == 1 and j == 1:\n",
    "        axes[i][j].set_xlabel('Segment B', fontweight='heavy', fontsize=10)\n",
    "        \n",
    "plt.suptitle('Monthly Retention: $P($Survival to $t)$ vs. $t$', fontsize=14)\n",
    "plt.legend()\n",
    "plt.tight_layout()\n",
    "plt.show()"
   ]
  },
  {
   "cell_type": "markdown",
   "id": "c1ca8b25",
   "metadata": {},
   "source": [
    "#### Profitability Summary"
   ]
  },
  {
   "cell_type": "markdown",
   "id": "773108c9",
   "metadata": {},
   "source": [
    "**Hypothesis**: The spend tracker helps overall profitability by driving more cumulative spending per member over their lifetime. \n",
    "\n",
    "The lift in profitability can be attributed to:\n",
    "- Incremental profitability due to _higher retention per member_.\n",
    "- Incremental profitability due to _higher average monthly spend per member_."
   ]
  },
  {
   "cell_type": "markdown",
   "id": "dadcfa63",
   "metadata": {},
   "source": [
    "Below is a summary table for the metrics we're tracking in this analysis vis-a-vis profitability:"
   ]
  },
  {
   "cell_type": "code",
   "execution_count": null,
   "id": "8f3b1013",
   "metadata": {},
   "outputs": [],
   "source": [
    "# Profitability overview\n",
    "cols = ['Test Group', 'Segment', 'LTV', 'CAC', 'LTV-to-CAC',\n",
    "        'Estimated Terminal Monthly Churn Rate', 'Estimated Median Lifetime', \n",
    "        'Terminal Monthly Contribution Margin']\n",
    "data = [[cohort.test_group, \n",
    "         cohort.segment, \n",
    "         cohort.estimate_ltv(), \n",
    "         cohort.cac,\n",
    "         cohort.estimate_ltv() / cohort.cac,\n",
    "         cohort.h_terminal[0],\n",
    "         cohort.fit_survival_model().median_survival_time_,\n",
    "         cohort.m_terminal\n",
    "        ] for cohort in (control, test, control_A, control_B, test_A, test_B)]\n",
    "\n",
    "df_prof_summary = pd.DataFrame(data, columns=cols)\n",
    "\n",
    "df_prof_summary.sort_values('LTV-to-CAC', ascending=False)"
   ]
  },
  {
   "cell_type": "markdown",
   "id": "af08c0c2",
   "metadata": {},
   "source": [
    "A quick sanity-check for order of magnitude of our LTVs:\n",
    "\n",
    "\n",
    "> Our research indicates that, all told, the average lifetime value of a consumer banking customer ranges between \\\\$2,000 and \\\\$4,000. \n",
    "> \n",
    "> (Novantas 2010)[3]\n",
    "\n",
    "...and CACs:\n",
    "\n",
    ">Customer acquisition is expensive. For a large bank it could cost between \\\\$1,500 and \\\\$2,000 to acquire a retail banking customer, according to Ciaran Rogers, director of marketing at StratiFi, an early stage startup that helps advisors manage portfolio risk. In credit cards the cost could be in the hundreds, not thousands — according to David True, a partner at PayGility Advisors. An expensive customer could be as high as about \\\\$800, which would include the cost of teasers and bonus loyalty points. At startups it could be between \\\\$5 to about \\\\$300 for one customer.[4]\n",
    "\n",
    "\n",
    "The relatively high LTV-to-CAC ratios leads me to believe that we're _under_-estimating customer acquisition costs. The desire and need to open a new checking/debit account is less salient for Segment B customers and it's very, very unlikely that conversions happened on the back of a small number of impressions (though I don't have much more information about the channels used to acquire these customers).\n",
    "\n",
    "[3]: https://novantas.com/wp-content/uploads/2013/10/Customer_Lifetime_Value.pdf\n",
    "[4]: https://tearsheet.co/data/why-customer-acquisition-is-so-difficult-for-financial-startups/"
   ]
  },
  {
   "cell_type": "markdown",
   "id": "99d9e409",
   "metadata": {},
   "source": [
    "What's interesting to see is the trade-off being made between test groups: for a particular segment, the LTV is _less_ in the Test group vs. Control, but the LTV-to-CAC is better because the acquisition spend is more fruitful!\n",
    "\n",
    "**Question**: If we could minimize the variable spend tracker cost (without affecting the usage of the tracker), what would the \"breakeven\" cost be so that a client of a particular segment would yield similar LTV as without the spend tracker?"
   ]
  },
  {
   "cell_type": "code",
   "execution_count": null,
   "id": "9e8e0b8f",
   "metadata": {},
   "outputs": [],
   "source": [
    "# Calculate approximate breakevens for spend tracker cost\n",
    "overall_spend_tracker_BE = calculate_spend_tracker_breakeven(test_group=\"Test\", \n",
    "                                                             segment=None, \n",
    "                                                             comp_cohort=control)\n",
    "segment_A_spend_tracker_BE = calculate_spend_tracker_breakeven(\"Test\", \n",
    "                                                               \"Segment A\", \n",
    "                                                               comp_cohort=control_A)\n",
    "segment_B_spend_tracker_BE = calculate_spend_tracker_breakeven(\"Test\", \n",
    "                                                               \"Segment B\",\n",
    "                                                               comp_cohort=control_B)"
   ]
  },
  {
   "cell_type": "code",
   "execution_count": null,
   "id": "586ee1af",
   "metadata": {},
   "outputs": [],
   "source": [
    "# Approximate PMPM Spend Tracker LTV breakeven between Test and Control LTV\n",
    "print(f\"Overall: ${overall_spend_tracker_BE}\")\n",
    "print(f\"Segment A: ${segment_A_spend_tracker_BE}\")\n",
    "print(f\"Segment B: ${segment_B_spend_tracker_BE}\")"
   ]
  },
  {
   "cell_type": "markdown",
   "id": "238a5ef2",
   "metadata": {},
   "source": [
    "##### ROI\n",
    "\n",
    "I'm measuring **return on investment as the acquisition cost savings and incremental gross profit generated in the first 18 months** (inclusive of acquisition month) **divided by the \"investment\" to generate these incremental cashflows** (i.e., the total cost of the spend tracker over this period)."
   ]
  },
  {
   "cell_type": "code",
   "execution_count": null,
   "id": "0c5ec48c",
   "metadata": {},
   "outputs": [],
   "source": [
    "# Print cohort ROIs @ $4 spend tracker cost per using member per month\n",
    "Cohort.cohort_roi(control, test)\n",
    "Cohort.cohort_roi(control_A, test_A, \"Segment A\")\n",
    "Cohort.cohort_roi(control_B, test_B, \"Segment B\")"
   ]
  },
  {
   "cell_type": "markdown",
   "id": "7d822c97",
   "metadata": {},
   "source": [
    "The steep ongoing \"investment\" cost of the spend tracker is what annihilates the positive impacts from increased spending and retention."
   ]
  },
  {
   "cell_type": "markdown",
   "id": "ee1eb3de",
   "metadata": {},
   "source": [
    "##### Retention\n",
    "\n",
    "We do see strong evidence overall and across segments that the spend tracker drives higher retention over the course of the customer life."
   ]
  },
  {
   "cell_type": "code",
   "execution_count": null,
   "id": "7436db62",
   "metadata": {},
   "outputs": [],
   "source": [
    "# Plot Test vs. Control retention overall\n",
    "test_model = test.fit_survival_model('KaplanMeier', label='Test')\n",
    "control_model = control.fit_survival_model('KaplanMeier', label='Control')\n",
    "\n",
    "# Set up plots\n",
    "plt.figure(figsize=(12,8)) \n",
    "\n",
    "# Plot data\n",
    "control_model.plot_survival_function()\n",
    "test_model.plot_survival_function()\n",
    "\n",
    "# Cosmetic Adjustments\n",
    "plt.xlabel('Months Since Conversion')\n",
    "plt.ylabel('$P($Survival to $t)$')\n",
    "plt.xlim(0, 18)\n",
    "ax = plt.gca()\n",
    "ax.spines['top'].set_visible(False)\n",
    "ax.spines['right'].set_visible(False)\n",
    "plt.show()"
   ]
  },
  {
   "cell_type": "code",
   "execution_count": null,
   "id": "9c3aafb0",
   "metadata": {},
   "outputs": [],
   "source": [
    "# Difference in 1 Year retention\n",
    "point_in_time = 12.\n",
    "results = survival_difference_at_fixed_point_in_time_test(point_in_time, control_model, test_model)\n",
    "\n",
    "results.print_summary(3)\n",
    "test_model.survival_function_at_times(12) - control_model.survival_function_at_times(12)"
   ]
  },
  {
   "cell_type": "markdown",
   "id": "83adf66c",
   "metadata": {},
   "source": [
    "**Observation**: There is evidence to suggest that the Test improves retention overall. When segmented, we arrive at a similar conclusion."
   ]
  },
  {
   "cell_type": "code",
   "execution_count": null,
   "id": "9e5f4468",
   "metadata": {},
   "outputs": [],
   "source": [
    "# Plot Test vs. Control retention overall\n",
    "test_A_model = test_A.fit_survival_model('KaplanMeier', label='Test')\n",
    "control_A_model = control_A.fit_survival_model('KaplanMeier', label='Control')\n",
    "test_B_model = test_B.fit_survival_model('KaplanMeier', label='Test')\n",
    "control_B_model = control_B.fit_survival_model('KaplanMeier', label='Control')"
   ]
  },
  {
   "cell_type": "code",
   "execution_count": null,
   "id": "f25ed8d0",
   "metadata": {},
   "outputs": [],
   "source": [
    "# Set up plots\n",
    "fig, axes = plt.subplots(1, 2, figsize=(16, 8), sharey=True)\n",
    "\n",
    "plt.sca(axes[0])\n",
    "control_A_model.plot_survival_function()\n",
    "test_A_model.plot_survival_function()\n",
    "\n",
    "plt.sca(axes[1])\n",
    "control_B_model.plot_survival_function()\n",
    "test_B_model.plot_survival_function()\n",
    "\n",
    "for i, ax in enumerate(axes):\n",
    "    \n",
    "    # Cosmetic Adjustments\n",
    "    if i == 0: \n",
    "        ax.set_title('Segment A')\n",
    "    else: \n",
    "        ax.set_title('Segment B')\n",
    "    ax.set_xlabel('Months Since Conversion')\n",
    "    ax.set_ylabel('$P($Survival to $t)$')\n",
    "    ax.set_xlim(0, 18)\n",
    "    ax.spines['top'].set_visible(False)\n",
    "    ax.spines['right'].set_visible(False)\n",
    "    \n",
    "plt.suptitle('Segmented Retention (Control vs. Test)', fontsize=14)\n",
    "plt.tight_layout()\n",
    "plt.show()"
   ]
  },
  {
   "cell_type": "markdown",
   "id": "f8a61e4a",
   "metadata": {},
   "source": [
    "**Question**: Are the estimated _terminal_ hazard rates better (i.e., lower) in the Test groups (overall and by segment)?"
   ]
  },
  {
   "cell_type": "code",
   "execution_count": null,
   "id": "2ddde2bf",
   "metadata": {},
   "outputs": [],
   "source": [
    "print(f\"Overall: {(test.h_terminal[0] < control.h_terminal[0])}\")\n",
    "print(f\"Segment A: {(test_A.h_terminal[0] < control_A.h_terminal[0])}\")\n",
    "print(f\"Segment B: {(test_B.h_terminal[0] < control_B.h_terminal[0])}\")"
   ]
  },
  {
   "cell_type": "markdown",
   "id": "ce5b38c0",
   "metadata": {},
   "source": [
    "**Observation**: An improved terminal hazard is only evidenced in Segment A, which seems consistent with the story that Segment B users generally have alternatives (read: other spending accounts)."
   ]
  },
  {
   "cell_type": "code",
   "execution_count": null,
   "id": "37fafbde",
   "metadata": {},
   "outputs": [],
   "source": [
    "# Difference in 1 Year retention\n",
    "results_A = survival_difference_at_fixed_point_in_time_test(point_in_time, control_A_model, test_A_model)\n",
    "results_B = survival_difference_at_fixed_point_in_time_test(point_in_time, control_B_model, test_B_model)\n",
    "\n",
    "results_A.print_summary()\n",
    "display(test_A_model.survival_function_at_times(12) - control_A_model.survival_function_at_times(12))\n",
    "results_B.print_summary()\n",
    "display(test_B_model.survival_function_at_times(12) - control_B_model.survival_function_at_times(12))\n"
   ]
  },
  {
   "cell_type": "markdown",
   "id": "55e5b7e5",
   "metadata": {},
   "source": [
    "##### Customer Spending"
   ]
  },
  {
   "cell_type": "code",
   "execution_count": null,
   "id": "7784a681",
   "metadata": {},
   "outputs": [],
   "source": [
    "# Set up plots\n",
    "plt.figure(figsize=(12,8)) \n",
    "\n",
    "# Plot data\n",
    "plt.plot(control.df['Gross Profit per Cohort User'], label='Control')\n",
    "plt.plot(test.df['Gross Profit per Cohort User'], label='Test')\n",
    "plt.hlines(control.df['Gross Profit per Active User'].mean(), 0, 18, \n",
    "           color='blue', ls='--', lw=1, \n",
    "           label='Control Average Gross Profit per Active User')\n",
    "plt.hlines(test.df['Gross Profit per Active User'].mean(), 0, 18, \n",
    "           color='orange', ls='--', lw=1, \n",
    "           label='Test Average Gross Profit per Active User')\n",
    "\n",
    "# Cosmetic Adjustments\n",
    "plt.xlabel('Months Since Conversion')\n",
    "plt.ylabel('Gross Profit per User')\n",
    "plt.xlim(0, 18)\n",
    "ax = plt.gca()\n",
    "ax.yaxis.set_major_formatter('${x:1.2f}')\n",
    "ax.spines['top'].set_visible(False)\n",
    "ax.spines['right'].set_visible(False)\n",
    "plt.title('Monthly Gross Profit (Control vs. Test)')\n",
    "plt.legend(bbox_to_anchor=(1, -0.1), ncol=4)\n",
    "plt.show()"
   ]
  },
  {
   "cell_type": "code",
   "execution_count": null,
   "id": "40728a67",
   "metadata": {},
   "outputs": [],
   "source": [
    "# Set up plots\n",
    "fig, axes = plt.subplots(1, 2, figsize=(16, 8), sharey=True)\n",
    "\n",
    "for i, ax in enumerate(axes):\n",
    "    \n",
    "    # Cosmetic Adjustments\n",
    "    if i == 0: \n",
    "        ax.set_title('Segment A')\n",
    "        ax.plot(control_A.df['Gross Profit per Cohort User'], label='Control')\n",
    "        ax.plot(test_A.df['Gross Profit per Cohort User'], label='Test')\n",
    "        ax.hlines(control_A.df['Gross Profit per Active User'].mean(), 0, 18,\n",
    "                  color='blue', ls='--', lw=1, \n",
    "                  label='Control Average Gross Profit per Active User')\n",
    "        ax.hlines(test_A.df['Gross Profit per Active User'].mean(), 0, 18, \n",
    "                  color='orange', ls='--', lw=1, \n",
    "                  label='Test Average Gross Profit per Active User')\n",
    "        ax.set_ylabel('Gross Profit per User')\n",
    "    else: \n",
    "        ax.set_title('Segment B')\n",
    "        ax.plot(control_B.df['Gross Profit per Cohort User'], label='Control')\n",
    "        ax.plot(test_B.df['Gross Profit per Cohort User'], label='Test')\n",
    "        ax.hlines(control_B.df['Gross Profit per Active User'].mean(), 0, 18,\n",
    "                  color='blue', ls='--', lw=1, \n",
    "                  label='Control Average Gross Profit per Active User')\n",
    "        ax.hlines(test_B.df['Gross Profit per Active User'].mean(), 0, 18, \n",
    "                  color='orange', ls='--', lw=1, \n",
    "                  label='Test Average Gross Profit per Active User')\n",
    "    ax.set_xlabel('Months Since Conversion')\n",
    "    ax.set_xlim(0, 18)\n",
    "    ax.yaxis.set_major_formatter('${x:1.2f}')\n",
    "    ax.spines['top'].set_visible(False)\n",
    "    ax.spines['right'].set_visible(False)\n",
    "    \n",
    "plt.suptitle('Segmented Gross Profit (Control vs. Test)', fontsize=14)\n",
    "plt.legend(bbox_to_anchor=(0.35, -0.1), ncol=2)\n",
    "plt.show()"
   ]
  },
  {
   "cell_type": "markdown",
   "id": "e4201d5e",
   "metadata": {},
   "source": [
    "**Observation**: There is a lift in spend both unconditionally and conditionally."
   ]
  },
  {
   "cell_type": "markdown",
   "id": "82b7d28a",
   "metadata": {},
   "source": [
    "So, here's the story that's emerged:\n",
    "\n",
    "- Retention and spending per AU is _up_ both unconditionally (overall between test groups) and conditionally (between test groups per segment) over the course of the observed period.\n",
    "- Conditional LTVs are _down_ and unconditional LTVs are roughly flat.\n",
    "- The explanation is that average cost of supporting the spend tracker per Active User user per month impairs the LTV relatively more than the lower CAC benefit it confers.\n"
   ]
  },
  {
   "cell_type": "markdown",
   "id": "27450efb",
   "metadata": {},
   "source": [
    "##### LTV Estimates, Revisited"
   ]
  },
  {
   "cell_type": "markdown",
   "id": "30cbb945",
   "metadata": {},
   "source": [
    "So far, I've been using point estimates from our data. I'd like to be able to make statements about the confidence and precision of our estimates reflecting the uncertainty of the data we observed.\n",
    "\n",
    "We generally have pretty precise estimates for the terminal attrition rate given very tight 95% confidence intervals from our survival model (for $\\tau > 12$), so **I will assume that the true $\\hat{h}_{\\text{terminal}}$ is distributed uniformly in the 95% confidence interval around our model estimate** for this sensitivity analysis.\n",
    "\n",
    "**For contribution margin, I will assume a Normal distribution centered at $\\hat{m}_{\\text{terminal}}$ with a standard deviation of we can choose (in dollars)** depending on how confident we are the estimated terminal contribution is what we observed."
   ]
  },
  {
   "cell_type": "code",
   "execution_count": null,
   "id": "cb721935",
   "metadata": {},
   "outputs": [],
   "source": [
    "# Assume $2 uncertainty around our estimate of the terminal contribution margin \n",
    "sim_distribtions = {\n",
    "    'control': run_sim(control),\n",
    "    'test': run_sim(test), \n",
    "    'control_A': run_sim(control_A),\n",
    "    'test_A': run_sim(test_A), \n",
    "    'control_B': run_sim(control_B),\n",
    "    'test_B': run_sim(test_B), \n",
    "}"
   ]
  },
  {
   "cell_type": "code",
   "execution_count": null,
   "id": "56e99df2",
   "metadata": {},
   "outputs": [],
   "source": [
    "# Set up plots\n",
    "plt.figure(figsize=(12,8)) \n",
    "\n",
    "# Plot data\n",
    "bins = 20\n",
    "weights = np.ones_like(sim_distribtions['control']) / float(len(sim_distribtions['control']))\n",
    "plt.hist(sim_distribtions['control'], bins=bins, weights=weights, alpha=0.35, label='Control')\n",
    "plt.hist(sim_distribtions['test'], bins=bins, weights=weights, alpha=0.35, label='Test')\n",
    "\n",
    "# Cosmetic Adjustments\n",
    "plt.xlabel('LTV')\n",
    "plt.ylabel('Relative Frequency')\n",
    "plt.ylim(0, .2)\n",
    "ax = plt.gca()\n",
    "ax.xaxis.set_major_formatter('${x:.0f}')\n",
    "ax.spines['top'].set_visible(False)\n",
    "ax.spines['right'].set_visible(False)\n",
    "ax.yaxis.set_major_formatter(mtick.PercentFormatter(1.0, decimals=0))\n",
    "plt.vlines(control.estimate_ltv(), 0, .2, \n",
    "           color='blue', ls='--', lw=1, label='Calculated Control LTV')\n",
    "plt.vlines(test.estimate_ltv(), 0, .2, \n",
    "           color='orange', ls='--', lw=1, label='Calculated Test LTV')\n",
    "plt.vlines(control.cac, 0, .2, \n",
    "           color='blue', ls='-', lw=1, label='Calculated CAC')\n",
    "plt.vlines(test.cac, 0, .2, \n",
    "           color='orange', ls='-', lw=1, label='Calculated Test CAC')\n",
    "plt.title('LTV Estimate Distribution (\\$2 $\\hat{m}_{terminal}$ Uncertainty)', \n",
    "          fontsize=14)\n",
    "\n",
    "# Show plot\n",
    "plt.legend()\n",
    "plt.show()"
   ]
  },
  {
   "cell_type": "code",
   "execution_count": null,
   "id": "a36b030a",
   "metadata": {},
   "outputs": [],
   "source": [
    "# Set up plots\n",
    "fig, axes = plt.subplots(1, 2, figsize=(16, 8), sharey=True)\n",
    "\n",
    "for i, ax in enumerate(axes):\n",
    "    \n",
    "    # Cosmetic Adjustments\n",
    "    if i == 0: \n",
    "        ax.set_title('Segment A')\n",
    "        ax.hist(sim_distribtions['control_A'], bins=bins, \n",
    "                weights=weights, label='Control', alpha=0.35)\n",
    "        ax.hist(sim_distribtions['test_A'], bins=bins, \n",
    "                weights=weights, label='Test', alpha=0.35)\n",
    "        ax.vlines(control_A.estimate_ltv(), 0, .25, \n",
    "                  color='blue', ls='--', lw=1, label='Calculated Control LTV')\n",
    "        ax.vlines(test_A.estimate_ltv(), 0, .25, \n",
    "                  color='orange', ls='--', lw=1, label='Calculated Test LTV')\n",
    "        ax.vlines(control_A.cac, 0, .25, \n",
    "                  color='blue', ls='-', lw=1, label='Calculated CAC')\n",
    "        ax.vlines(test_A.cac, 0, .25, \n",
    "                  color='orange', ls='-', lw=1, label='Calculated Test CAC')\n",
    "        ax.set_ylabel('Relative Frequency')\n",
    "    else: \n",
    "        ax.set_title('Segment B')\n",
    "        ax.hist(sim_distribtions['control_B'], bins=bins, \n",
    "                weights=weights, label='Control', alpha=0.35)\n",
    "        ax.hist(sim_distribtions['test_B'], bins=bins, \n",
    "                weights=weights, label='Test', alpha=0.35)\n",
    "        ax.vlines(control_B.estimate_ltv(), 0, .25, \n",
    "                  color='blue', ls='--', lw=1, label='Calculated Control LTV')\n",
    "        ax.vlines(test_B.estimate_ltv(), 0, .25, \n",
    "                  color='orange', ls='--', lw=1, label='Calculated Test LTV')\n",
    "        ax.vlines(control_B.cac, 0, .25, \n",
    "                  color='blue', ls='-', lw=1, label='Calculated CAC')\n",
    "        ax.vlines(test_B.cac, 0, .25, \n",
    "                  color='orange', ls='-', lw=1, label='Calculated Test CAC')\n",
    "    ax.set_xlabel('LTV')\n",
    "    ax.set_ylim(0, 0.25)\n",
    "    ax.yaxis.set_major_formatter(mtick.PercentFormatter(1.0, decimals=0))\n",
    "    ax.xaxis.set_major_formatter('${x:.0f}')\n",
    "    ax.spines['top'].set_visible(False)\n",
    "    ax.spines['right'].set_visible(False)\n",
    "    \n",
    "plt.suptitle('LTV Estimate Distribution (\\$2 $\\hat{m}_{terminal}$ Uncertainty)',\n",
    "             fontsize=14)\n",
    "plt.legend(bbox_to_anchor=(0.35, -0.1), ncol=3)\n",
    "plt.show()"
   ]
  },
  {
   "cell_type": "markdown",
   "id": "54d150d9",
   "metadata": {},
   "source": [
    "### Member Value\n",
    "\n",
    "From the case study prompt:\n",
    "\n",
    "> To evaluate value to members, we look at what percentage of our members test the feature and continue to use it through time.\n",
    "\n",
    "\n",
    "**Upshot**: From the Profitability analysis above, we know that the relatively higher usage (at the $5 variable cost) of the spend tracker is what is reducing the favorability of the unit economics of this feature, even though the feature drives relatively more Segment B users and improves the retention and spend between both segments.\n"
   ]
  },
  {
   "cell_type": "code",
   "execution_count": null,
   "id": "5bc9e8cb",
   "metadata": {},
   "outputs": [],
   "source": [
    "# Set up plots\n",
    "plt.figure(figsize=(12,8)) \n",
    "\n",
    "# Plot data\n",
    "plt.plot(test_A.df['Spend Tracker Usage Rate'], label='Segment A')\n",
    "plt.plot(test_B.df['Spend Tracker Usage Rate'], label='Segment B')\n",
    "plt.plot(test.df['Spend Tracker Usage Rate'], color='black', ls=':', label='Overall')\n",
    "\n",
    "# Cosmetic Adjustments\n",
    "plt.xlabel('Months Since Conversion')\n",
    "plt.ylabel('Spend Tracker Usage Rate (% Cohort Users)')\n",
    "plt.xlim(0, 18)\n",
    "ax = plt.gca()\n",
    "ax.spines['top'].set_visible(False)\n",
    "ax.spines['right'].set_visible(False)\n",
    "plt.title('Spend Tracker Usage (% Cohort Users) by Segment')\n",
    "ax.yaxis.set_major_formatter(mtick.PercentFormatter(1.0, decimals=0))\n",
    "plt.legend(loc='upper right')\n",
    "plt.show()"
   ]
  },
  {
   "cell_type": "code",
   "execution_count": null,
   "id": "697cc81c",
   "metadata": {},
   "outputs": [],
   "source": [
    "# Set up plots\n",
    "plt.figure(figsize=(12,8)) \n",
    "\n",
    "# Plot data\n",
    "plt.plot(test_A.df['Spend Tracker Active User Count']/ test_A.df['Active User Count'],\n",
    "         label='Segment A')\n",
    "plt.plot(test_B.df['Spend Tracker Active User Count'] / test_B.df['Active User Count'],\n",
    "         label='Segment B')\n",
    "plt.plot(test.df['Spend Tracker Active User Count'] / test.df['Active User Count'], \n",
    "         color='black', ls=':', label='Overall')\n",
    "\n",
    "# Cosmetic Adjustments\n",
    "plt.xlabel('Months Since Conversion')\n",
    "plt.ylabel('Spend Tracker Usage Rate (% Active Users)')\n",
    "plt.xlim(0, 18)\n",
    "ax = plt.gca()\n",
    "ax.spines['top'].set_visible(False)\n",
    "ax.spines['right'].set_visible(False)\n",
    "plt.title('Spend Tracker Usage (% Active Users) by Segment')\n",
    "ax.yaxis.set_major_formatter(mtick.PercentFormatter(1.0, decimals=0))\n",
    "plt.legend(bbox_to_anchor=(0.75, -0.1), ncol=4)\n",
    "plt.show()"
   ]
  },
  {
   "cell_type": "markdown",
   "id": "90266457",
   "metadata": {},
   "source": [
    "**Observation**: As expected, Segment B customers are relatively heavier users of the spend tracker."
   ]
  }
 ],
 "metadata": {
  "kernelspec": {
   "display_name": "Python 3",
   "language": "python",
   "name": "python3"
  },
  "language_info": {
   "codemirror_mode": {
    "name": "ipython",
    "version": 3
   },
   "file_extension": ".py",
   "mimetype": "text/x-python",
   "name": "python",
   "nbconvert_exporter": "python",
   "pygments_lexer": "ipython3",
   "version": "3.9.4"
  }
 },
 "nbformat": 4,
 "nbformat_minor": 5
}
